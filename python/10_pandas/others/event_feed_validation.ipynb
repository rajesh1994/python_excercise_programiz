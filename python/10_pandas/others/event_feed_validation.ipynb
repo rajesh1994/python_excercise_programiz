{
 "cells": [
  {
   "cell_type": "code",
   "execution_count": 156,
   "metadata": {},
   "outputs": [],
   "source": [
    "# Importing the libraries\n",
    "import pandas as pd\n",
    "import datetime\n",
    "import numpy as np\n",
    "from datetime import time\n",
    "from dateutil.relativedelta import relativedelta"
   ]
  },
  {
   "cell_type": "code",
   "execution_count": 157,
   "metadata": {},
   "outputs": [
    {
     "data": {
      "text/html": [
       "<div>\n",
       "<style scoped>\n",
       "    .dataframe tbody tr th:only-of-type {\n",
       "        vertical-align: middle;\n",
       "    }\n",
       "\n",
       "    .dataframe tbody tr th {\n",
       "        vertical-align: top;\n",
       "    }\n",
       "\n",
       "    .dataframe thead th {\n",
       "        text-align: right;\n",
       "    }\n",
       "</style>\n",
       "<table border=\"1\" class=\"dataframe\">\n",
       "  <thead>\n",
       "    <tr style=\"text-align: right;\">\n",
       "      <th></th>\n",
       "      <th>deviceId</th>\n",
       "      <th>tripStart_timestamp</th>\n",
       "      <th>tripStop_timestamp</th>\n",
       "      <th>tripStart_location/lat</th>\n",
       "      <th>tripStart_location/lon</th>\n",
       "      <th>tripStop_location/lat</th>\n",
       "      <th>tripStop_location/lon</th>\n",
       "    </tr>\n",
       "  </thead>\n",
       "  <tbody>\n",
       "    <tr>\n",
       "      <th>0</th>\n",
       "      <td>dedf6ca3-baf2-3b5c-abec-00696feb06bb</td>\n",
       "      <td>2019-06-20T14:19:03.000Z</td>\n",
       "      <td>2019-06-20T14:22:03.000Z</td>\n",
       "      <td>41.933873</td>\n",
       "      <td>-88.152189</td>\n",
       "      <td>41.938845</td>\n",
       "      <td>-88.138448</td>\n",
       "    </tr>\n",
       "    <tr>\n",
       "      <th>1</th>\n",
       "      <td>dedf6ca3-baf2-3b5c-abec-00696feb06bb</td>\n",
       "      <td>2019-06-20T15:24:40.000Z</td>\n",
       "      <td>2019-06-20T15:31:20.000Z</td>\n",
       "      <td>41.935551</td>\n",
       "      <td>-88.131921</td>\n",
       "      <td>41.932081</td>\n",
       "      <td>-88.155789</td>\n",
       "    </tr>\n",
       "    <tr>\n",
       "      <th>2</th>\n",
       "      <td>dedf6ca3-baf2-3b5c-abec-00696feb06bb</td>\n",
       "      <td>2019-06-20T18:22:52.000Z</td>\n",
       "      <td>2019-06-20T19:38:12.000Z</td>\n",
       "      <td>41.931984</td>\n",
       "      <td>-88.155997</td>\n",
       "      <td>41.936940</td>\n",
       "      <td>-88.078054</td>\n",
       "    </tr>\n",
       "    <tr>\n",
       "      <th>3</th>\n",
       "      <td>dedf6ca3-baf2-3b5c-abec-00696feb06bb</td>\n",
       "      <td>2019-06-20T19:47:12.000Z</td>\n",
       "      <td>2019-06-20T19:58:36.000Z</td>\n",
       "      <td>41.937599</td>\n",
       "      <td>-88.084403</td>\n",
       "      <td>41.932148</td>\n",
       "      <td>-88.155809</td>\n",
       "    </tr>\n",
       "    <tr>\n",
       "      <th>4</th>\n",
       "      <td>dedf6ca3-baf2-3b5c-abec-00696feb06bb</td>\n",
       "      <td>2019-06-20T23:26:13.000Z</td>\n",
       "      <td>2019-06-20T23:36:55.000Z</td>\n",
       "      <td>41.931110</td>\n",
       "      <td>-88.156926</td>\n",
       "      <td>41.932119</td>\n",
       "      <td>-88.155723</td>\n",
       "    </tr>\n",
       "  </tbody>\n",
       "</table>\n",
       "</div>"
      ],
      "text/plain": [
       "                               deviceId       tripStart_timestamp  \\\n",
       "0  dedf6ca3-baf2-3b5c-abec-00696feb06bb  2019-06-20T14:19:03.000Z   \n",
       "1  dedf6ca3-baf2-3b5c-abec-00696feb06bb  2019-06-20T15:24:40.000Z   \n",
       "2  dedf6ca3-baf2-3b5c-abec-00696feb06bb  2019-06-20T18:22:52.000Z   \n",
       "3  dedf6ca3-baf2-3b5c-abec-00696feb06bb  2019-06-20T19:47:12.000Z   \n",
       "4  dedf6ca3-baf2-3b5c-abec-00696feb06bb  2019-06-20T23:26:13.000Z   \n",
       "\n",
       "         tripStop_timestamp  tripStart_location/lat  tripStart_location/lon  \\\n",
       "0  2019-06-20T14:22:03.000Z               41.933873              -88.152189   \n",
       "1  2019-06-20T15:31:20.000Z               41.935551              -88.131921   \n",
       "2  2019-06-20T19:38:12.000Z               41.931984              -88.155997   \n",
       "3  2019-06-20T19:58:36.000Z               41.937599              -88.084403   \n",
       "4  2019-06-20T23:36:55.000Z               41.931110              -88.156926   \n",
       "\n",
       "   tripStop_location/lat  tripStop_location/lon  \n",
       "0              41.938845             -88.138448  \n",
       "1              41.932081             -88.155789  \n",
       "2              41.936940             -88.078054  \n",
       "3              41.932148             -88.155809  \n",
       "4              41.932119             -88.155723  "
      ]
     },
     "execution_count": 157,
     "metadata": {},
     "output_type": "execute_result"
    }
   ],
   "source": [
    "# Reading the csv file\n",
    "df0 = pd.read_csv(\"/home/rajesh/Documents/Motorq/25-June-2019/events_feed/event_feed(dedf6ca3-baf2-3b5c-abec-00696feb06bb) - validated.csv\")\n",
    "df0.head()"
   ]
  },
  {
   "cell_type": "code",
   "execution_count": 158,
   "metadata": {},
   "outputs": [],
   "source": [
    "# Replacing the strings\n",
    "m_tripStart_timestamp = df0[\"tripStart_timestamp\"].str.replace(\"T\", \" \").str.replace(\"Z\", \"\")\n",
    "m_tripStop_timestamp = df0[\"tripStop_timestamp\"].str.replace(\"T\", \" \").str.replace(\"Z\", \"\")"
   ]
  },
  {
   "cell_type": "code",
   "execution_count": 159,
   "metadata": {},
   "outputs": [],
   "source": [
    "# Changing the datatype\n",
    "m_tripStart_timestamp = pd.to_datetime(m_tripStart_timestamp)\n",
    "m_tripStop_timestamp = pd.to_datetime(m_tripStop_timestamp)"
   ]
  },
  {
   "cell_type": "code",
   "execution_count": 160,
   "metadata": {},
   "outputs": [],
   "source": [
    "# Finding time difference between m_tripStop_timestamp, m_tripStart_timestamp\n",
    "time_diff = m_tripStop_timestamp - m_tripStart_timestamp"
   ]
  },
  {
   "cell_type": "code",
   "execution_count": 161,
   "metadata": {},
   "outputs": [
    {
     "data": {
      "text/html": [
       "<div>\n",
       "<style scoped>\n",
       "    .dataframe tbody tr th:only-of-type {\n",
       "        vertical-align: middle;\n",
       "    }\n",
       "\n",
       "    .dataframe tbody tr th {\n",
       "        vertical-align: top;\n",
       "    }\n",
       "\n",
       "    .dataframe thead th {\n",
       "        text-align: right;\n",
       "    }\n",
       "</style>\n",
       "<table border=\"1\" class=\"dataframe\">\n",
       "  <thead>\n",
       "    <tr style=\"text-align: right;\">\n",
       "      <th></th>\n",
       "      <th>deviceId</th>\n",
       "      <th>tripStart_timestamp</th>\n",
       "      <th>tripStop_timestamp</th>\n",
       "      <th>tripStart_location/lat</th>\n",
       "      <th>tripStart_location/lon</th>\n",
       "      <th>tripStop_location/lat</th>\n",
       "      <th>tripStop_location/lon</th>\n",
       "      <th>time_diff_in_mins</th>\n",
       "    </tr>\n",
       "  </thead>\n",
       "  <tbody>\n",
       "    <tr>\n",
       "      <th>0</th>\n",
       "      <td>dedf6ca3-baf2-3b5c-abec-00696feb06bb</td>\n",
       "      <td>2019-06-20T14:19:03.000Z</td>\n",
       "      <td>2019-06-20T14:22:03.000Z</td>\n",
       "      <td>41.933873</td>\n",
       "      <td>-88.152189</td>\n",
       "      <td>41.938845</td>\n",
       "      <td>-88.138448</td>\n",
       "      <td>3.00</td>\n",
       "    </tr>\n",
       "    <tr>\n",
       "      <th>1</th>\n",
       "      <td>dedf6ca3-baf2-3b5c-abec-00696feb06bb</td>\n",
       "      <td>2019-06-20T15:24:40.000Z</td>\n",
       "      <td>2019-06-20T15:31:20.000Z</td>\n",
       "      <td>41.935551</td>\n",
       "      <td>-88.131921</td>\n",
       "      <td>41.932081</td>\n",
       "      <td>-88.155789</td>\n",
       "      <td>6.67</td>\n",
       "    </tr>\n",
       "    <tr>\n",
       "      <th>2</th>\n",
       "      <td>dedf6ca3-baf2-3b5c-abec-00696feb06bb</td>\n",
       "      <td>2019-06-20T18:22:52.000Z</td>\n",
       "      <td>2019-06-20T19:38:12.000Z</td>\n",
       "      <td>41.931984</td>\n",
       "      <td>-88.155997</td>\n",
       "      <td>41.936940</td>\n",
       "      <td>-88.078054</td>\n",
       "      <td>75.33</td>\n",
       "    </tr>\n",
       "    <tr>\n",
       "      <th>3</th>\n",
       "      <td>dedf6ca3-baf2-3b5c-abec-00696feb06bb</td>\n",
       "      <td>2019-06-20T19:47:12.000Z</td>\n",
       "      <td>2019-06-20T19:58:36.000Z</td>\n",
       "      <td>41.937599</td>\n",
       "      <td>-88.084403</td>\n",
       "      <td>41.932148</td>\n",
       "      <td>-88.155809</td>\n",
       "      <td>11.40</td>\n",
       "    </tr>\n",
       "    <tr>\n",
       "      <th>4</th>\n",
       "      <td>dedf6ca3-baf2-3b5c-abec-00696feb06bb</td>\n",
       "      <td>2019-06-20T23:26:13.000Z</td>\n",
       "      <td>2019-06-20T23:36:55.000Z</td>\n",
       "      <td>41.931110</td>\n",
       "      <td>-88.156926</td>\n",
       "      <td>41.932119</td>\n",
       "      <td>-88.155723</td>\n",
       "      <td>10.70</td>\n",
       "    </tr>\n",
       "  </tbody>\n",
       "</table>\n",
       "</div>"
      ],
      "text/plain": [
       "                               deviceId       tripStart_timestamp  \\\n",
       "0  dedf6ca3-baf2-3b5c-abec-00696feb06bb  2019-06-20T14:19:03.000Z   \n",
       "1  dedf6ca3-baf2-3b5c-abec-00696feb06bb  2019-06-20T15:24:40.000Z   \n",
       "2  dedf6ca3-baf2-3b5c-abec-00696feb06bb  2019-06-20T18:22:52.000Z   \n",
       "3  dedf6ca3-baf2-3b5c-abec-00696feb06bb  2019-06-20T19:47:12.000Z   \n",
       "4  dedf6ca3-baf2-3b5c-abec-00696feb06bb  2019-06-20T23:26:13.000Z   \n",
       "\n",
       "         tripStop_timestamp  tripStart_location/lat  tripStart_location/lon  \\\n",
       "0  2019-06-20T14:22:03.000Z               41.933873              -88.152189   \n",
       "1  2019-06-20T15:31:20.000Z               41.935551              -88.131921   \n",
       "2  2019-06-20T19:38:12.000Z               41.931984              -88.155997   \n",
       "3  2019-06-20T19:58:36.000Z               41.937599              -88.084403   \n",
       "4  2019-06-20T23:36:55.000Z               41.931110              -88.156926   \n",
       "\n",
       "   tripStop_location/lat  tripStop_location/lon  time_diff_in_mins  \n",
       "0              41.938845             -88.138448               3.00  \n",
       "1              41.932081             -88.155789               6.67  \n",
       "2              41.936940             -88.078054              75.33  \n",
       "3              41.932148             -88.155809              11.40  \n",
       "4              41.932119             -88.155723              10.70  "
      ]
     },
     "execution_count": 161,
     "metadata": {},
     "output_type": "execute_result"
    }
   ],
   "source": [
    "# Time difference in minutes\n",
    "df0[\"time_diff_in_mins\"] = round(time_diff / np.timedelta64(1, 'm'), 2)\n",
    "df0.head()"
   ]
  },
  {
   "cell_type": "code",
   "execution_count": 162,
   "metadata": {},
   "outputs": [
    {
     "name": "stdout",
     "output_type": "stream",
     "text": [
      "All the trips have equal number of tripStart & tripStop\n"
     ]
    }
   ],
   "source": [
    "# Removing nan values from the df0\n",
    "df1 = df0.dropna()\n",
    "\n",
    "# Checking tripStart is equal to tripStop or not\n",
    "if len(df0[\"tripStart_timestamp\"]) == len(df1[\"tripStop_timestamp\"]):\n",
    "    print(\"All the trips have equal number of tripStart & tripStop\")\n",
    "else:\n",
    "    print(\"tripStart & tripStop are not equal\")"
   ]
  },
  {
   "cell_type": "code",
   "execution_count": 163,
   "metadata": {},
   "outputs": [
    {
     "data": {
      "text/html": [
       "<div>\n",
       "<style scoped>\n",
       "    .dataframe tbody tr th:only-of-type {\n",
       "        vertical-align: middle;\n",
       "    }\n",
       "\n",
       "    .dataframe tbody tr th {\n",
       "        vertical-align: top;\n",
       "    }\n",
       "\n",
       "    .dataframe thead th {\n",
       "        text-align: right;\n",
       "    }\n",
       "</style>\n",
       "<table border=\"1\" class=\"dataframe\">\n",
       "  <thead>\n",
       "    <tr style=\"text-align: right;\">\n",
       "      <th></th>\n",
       "      <th>deviceId</th>\n",
       "      <th>tripStart_timestamp</th>\n",
       "      <th>tripStop_timestamp</th>\n",
       "      <th>tripStart_location/lat</th>\n",
       "      <th>tripStart_location/lon</th>\n",
       "      <th>tripStop_location/lat</th>\n",
       "      <th>tripStop_location/lon</th>\n",
       "      <th>time_diff_in_mins</th>\n",
       "    </tr>\n",
       "  </thead>\n",
       "  <tbody>\n",
       "  </tbody>\n",
       "</table>\n",
       "</div>"
      ],
      "text/plain": [
       "Empty DataFrame\n",
       "Columns: [deviceId, tripStart_timestamp, tripStop_timestamp, tripStart_location/lat, tripStart_location/lon, tripStop_location/lat, tripStop_location/lon, time_diff_in_mins]\n",
       "Index: []"
      ]
     },
     "execution_count": 163,
     "metadata": {},
     "output_type": "execute_result"
    }
   ],
   "source": [
    "# Examine the duplicate rows\n",
    "df0.loc[df0.duplicated(), :]"
   ]
  },
  {
   "cell_type": "code",
   "execution_count": 165,
   "metadata": {},
   "outputs": [],
   "source": [
    "# Exporting the df0 as csv file\n",
    "df0.to_csv(\"/home/rajesh/Documents/Motorq/25-June-2019/events_feed/event_feed(dedf6ca3-baf2-3b5c-abec-00696feb06bb) - validated01.csv\", index=False)"
   ]
  }
 ],
 "metadata": {
  "kernelspec": {
   "display_name": "Python 3",
   "language": "python",
   "name": "python3"
  },
  "language_info": {
   "codemirror_mode": {
    "name": "ipython",
    "version": 3
   },
   "file_extension": ".py",
   "mimetype": "text/x-python",
   "name": "python",
   "nbconvert_exporter": "python",
   "pygments_lexer": "ipython3",
   "version": "3.6.8"
  }
 },
 "nbformat": 4,
 "nbformat_minor": 2
}

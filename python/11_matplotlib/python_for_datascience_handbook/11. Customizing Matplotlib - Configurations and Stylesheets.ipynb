{
 "cells": [
  {
   "cell_type": "markdown",
   "metadata": {},
   "source": [
    "### Customizing Matplotlib: Configurations and Stylesheets\n",
    "\n",
    "• Matplotlib’s default plot settings are often the subject of complaint among its users.\n",
    "\n",
    "• While much is slated to change in the 2.0 Matplotlib release, the ability to customize default settings helps bring the package in line with your own aesthetic preferences.\n",
    "\n",
    "• Here we’ll walk through some of Matplotlib’s runtime configuration ( rc ) options, and take a look at the newer stylesheets feature, which contains some nice sets of default configurations."
   ]
  },
  {
   "cell_type": "markdown",
   "metadata": {},
   "source": [
    "### Plot Customization by Hand\n",
    "\n",
    "• Throughout this chapter, we’ve seen how it is possible to tweak individual plot settings to end up with something that looks a little bit nicer than the default.\n",
    "\n",
    "• It’s possible to do these customizations for each individual plot.\n",
    "\n",
    "• For example, here is a fairly drab default histogram."
   ]
  },
  {
   "cell_type": "code",
   "execution_count": 1,
   "metadata": {},
   "outputs": [],
   "source": [
    "import numpy as np\n",
    "import matplotlib.pyplot as plt\n",
    "%matplotlib inline\n",
    "plt.style.use(\"classic\")"
   ]
  },
  {
   "cell_type": "code",
   "execution_count": 18,
   "metadata": {},
   "outputs": [
    {
     "data": {
      "image/png": "[encoded data removed]",
      "text/plain": [
       "<Figure size 432x288 with 1 Axes>"
      ]
     },
     "metadata": {
      "needs_background": "light"
     },
     "output_type": "display_data"
    }
   ],
   "source": [
    "x = np.random.randn(1000)\n",
    "plt.hist(x)\n",
    "plt.title(\"A histogram in Matplotlib’s default style\");"
   ]
  },
  {
   "cell_type": "markdown",
   "metadata": {},
   "source": [
    "• We can adjust this by hand to make it a much more visually pleasing plot"
   ]
  },
  {
   "cell_type": "code",
   "execution_count": 35,
   "metadata": {},
   "outputs": [
    {
     "data": {
      "image/png": "[encoded data removed]",
      "text/plain": [
       "<Figure size 432x288 with 1 Axes>"
      ]
     },
     "metadata": {
      "needs_background": "dark"
     },
     "output_type": "display_data"
    }
   ],
   "source": [
    "# Use a gray background\n",
    "ax = plt.axes(facecolor='#E6E6E6')\n",
    "ax.set_axisbelow(True)\n",
    "\n",
    "# Draw a solid white grid lines\n",
    "plt.grid(color = 'w', linestyle = \"solid\")\n",
    "\n",
    "# Hide axis spines\n",
    "for spine in ax.spines.values():\n",
    "    spine.set_visible(False)\n",
    "\n",
    "# Hide top & right ticks\n",
    "ax.xaxis.tick_bottom()\n",
    "ax.yaxis.tick_left()\n",
    "\n",
    "# Lighten ticks & labels\n",
    "ax.tick_params(colors = \"gray\", direction = \"out\")\n",
    "for tick in ax.get_xticklabels():\n",
    "    tick.set_color(\"gray\")\n",
    "for tick in ax.get_yticklabels():\n",
    "    tick.set_color(\"gray\")\n",
    "\n",
    "# Control face & edge color of histogram\n",
    "ax.hist(x, edgecolor = \"#E6E6E6\", color='#EE6666')\n",
    "plt.title(\"A histogram with manual customizations\");"
   ]
  },
  {
   "cell_type": "markdown",
   "metadata": {},
   "source": [
    "• This looks better, and you may recognize the look as inspired by the look of the R\n",
    "language’s ggplot visualization package.\n",
    "• But this took a whole lot of effort! We definitely do not want to have to do all that tweaking each time we create a plot.\n",
    "• Fortu‐\n",
    "nately, there is a way to adjust these defaults once in a way that will work for all plots."
   ]
  }
 ],
 "metadata": {
  "kernelspec": {
   "display_name": "Python 3",
   "language": "python",
   "name": "python3"
  },
  "language_info": {
   "codemirror_mode": {
    "name": "ipython",
    "version": 3
   },
   "file_extension": ".py",
   "mimetype": "text/x-python",
   "name": "python",
   "nbconvert_exporter": "python",
   "pygments_lexer": "ipython3",
   "version": "3.6.8"
  }
 },
 "nbformat": 4,
 "nbformat_minor": 2
}

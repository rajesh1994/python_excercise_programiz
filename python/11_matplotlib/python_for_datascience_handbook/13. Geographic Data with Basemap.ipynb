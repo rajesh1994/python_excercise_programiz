{
 "cells": [
  {
   "cell_type": "markdown",
   "metadata": {},
   "source": [
    "### Geographic Data with Basemap\n",
    "\n",
    "• One common type of visualization in data science is that of geographic data.\n",
    "\n",
    "• Matplotlib’s main tool for this type of visualization is the Basemap toolkit, which is one of several Matplotlib toolkits that live under the mpl_toolkits namespace.\n",
    "\n",
    "• Admittedly, Basemap feels a bit clunky to use, and often even simple visualizations take much longer to render than you might hope.\n",
    "\n",
    "• More modern solutions, such as leaflet or the Google Maps API, may be a better choice for more intensive map visualizations.\n",
    "\n",
    "• Still, Basemap is a useful tool for Python users to have in their virtual toolbelts.\n",
    "\n",
    "• In this section, we’ll show several examples of the type of map visualization that is possible with this toolkit.\n",
    "\n",
    "• Installation of Basemap is straightforward; if you’re using conda you can type this and the package will be downloaded:\n",
    "\n",
    "• $ conda install basemap"
   ]
  },
  {
   "cell_type": "markdown",
   "metadata": {},
   "source": [
    "• We add just a single new import to our standard boilerplate:"
   ]
  },
  {
   "cell_type": "code",
   "execution_count": 1,
   "metadata": {},
   "outputs": [],
   "source": [
    "%matplotlib inline\n",
    "import matplotlib.pyplot as plt\n",
    "import numpy as np"
   ]
  }
 ],
 "metadata": {
  "kernelspec": {
   "display_name": "Python 3",
   "language": "python",
   "name": "python3"
  },
  "language_info": {
   "codemirror_mode": {
    "name": "ipython",
    "version": 3
   },
   "file_extension": ".py",
   "mimetype": "text/x-python",
   "name": "python",
   "nbconvert_exporter": "python",
   "pygments_lexer": "ipython3",
   "version": "3.6.8"
  }
 },
 "nbformat": 4,
 "nbformat_minor": 2
}

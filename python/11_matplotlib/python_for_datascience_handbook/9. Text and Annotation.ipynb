{
 "cells": [
  {
   "cell_type": "markdown",
   "metadata": {},
   "source": [
    "### Text and Annotation\n",
    "\n",
    "• Creating a good visualization involves guiding the reader so that the figure tells a story.\n",
    "\n",
    "• In some cases, this story can be told in an entirely visual manner, without the need for added text, but in others, small textual cues and labels are necessary.\n",
    "\n",
    "• Perhaps the most basic types of annotations you will use are axes labels and titles, but the options go beyond this.\n",
    "\n",
    "• Let’s take a look at some data and how we might visualize and annotate it to help convey interesting information."
   ]
  },
  {
   "cell_type": "code",
   "execution_count": null,
   "metadata": {},
   "outputs": [],
   "source": []
  }
 ],
 "metadata": {
  "kernelspec": {
   "display_name": "Python 3",
   "language": "python",
   "name": "python3"
  },
  "language_info": {
   "codemirror_mode": {
    "name": "ipython",
    "version": 3
   },
   "file_extension": ".py",
   "mimetype": "text/x-python",
   "name": "python",
   "nbconvert_exporter": "python",
   "pygments_lexer": "ipython3",
   "version": "3.6.7"
  }
 },
 "nbformat": 4,
 "nbformat_minor": 2
}

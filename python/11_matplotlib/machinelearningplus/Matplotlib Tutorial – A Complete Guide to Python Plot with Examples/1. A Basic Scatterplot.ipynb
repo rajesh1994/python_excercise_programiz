{
 "cells": [
  {
   "cell_type": "code",
   "execution_count": 1,
   "metadata": {},
   "outputs": [],
   "source": [
    "import matplotlib.pyplot as plt\n",
    "%matplotlib inline"
   ]
  },
  {
   "cell_type": "markdown",
   "metadata": {},
   "source": [
    "• matplotlib.pyplot is usually imported as plt.\n",
    "\n",
    "• It is the core object that contains the methods to create all sorts of charts and features in a plot.\n",
    "\n",
    "• The %matplotlib inline is a jupyter notebook specific command that let’s you see the plots in the notbook itself.\n",
    "\n",
    "• Suppose you want to draw a specific type of plot, say a scatterplot, the first thing you want to check out are the methods under plt (type plt and hit tab or type dir(plt) in python prompt).\n",
    "\n",
    "• Let’s begin by making a simple but full-featured scatterplot and take it from there.\n",
    "\n",
    "• Let’s see what plt.plot() creates if you an arbitrary sequence of numbers."
   ]
  },
  {
   "cell_type": "code",
   "execution_count": 8,
   "metadata": {},
   "outputs": [
    {
     "data": {
      "image/png": "[encoded data removed]",
      "text/plain": [
       "<Figure size 432x288 with 1 Axes>"
      ]
     },
     "metadata": {
      "needs_background": "light"
     },
     "output_type": "display_data"
    }
   ],
   "source": [
    "plt.plot([1, 2, 3, 4, 5, 10, 12, 22, 31, 35]);"
   ]
  },
  {
   "cell_type": "markdown",
   "metadata": {},
   "source": [
    "• I just gave a list of numbers to plt.plot() and it drew a line chart automatically.\n",
    "\n",
    "• It assumed the values of the X-axis to start from zero going up to as many items in the data.\n",
    "\n",
    "• Notice the line matplotlib.lines.Line2D in code output?\n",
    "\n",
    "• That’s because Matplotlib returns the plot object itself besides drawing the plot.\n",
    "\n",
    "• If you only want to see the plot, add plt.show() at the end and execute all the lines in one shot.\n",
    "\n",
    "• Alright, notice instead of the intended scatter plot, plt.plot drew a line plot.\n",
    "\n",
    "• That’s because of the default behaviour.\n",
    "\n",
    "• So how to draw a scatterplot instead?\n",
    "\n",
    "• Well to do that, let’s understand a bit more about what arguments plt.plot() expects.\n",
    "\n",
    "• The plt.plot accepts 3 basic arguments in the following order: (x, y, format).\n",
    "\n",
    "• For example, the format 'go-' has 3 characters standing for: ‘green colored dots with solid line’. By omitting the line part (‘-‘) in the end, you will be left with only green dots (‘go’), which makes it draw a scatterplot."
   ]
  },
  {
   "cell_type": "code",
   "execution_count": 23,
   "metadata": {},
   "outputs": [
    {
     "data": {
      "image/png": "[encoded data removed]",
      "text/plain": [
       "<Figure size 432x288 with 1 Axes>"
      ]
     },
     "metadata": {
      "needs_background": "light"
     },
     "output_type": "display_data"
    }
   ],
   "source": [
    "plt.plot([1, 2, 3, 4, 5], [1, 2, 3, 4, 10], 'go');"
   ]
  },
  {
   "cell_type": "markdown",
   "metadata": {},
   "source": [
    "• Good. Now, how to increase the size of the plot? (The above plot would actually look small on a jupyter notebook)\n",
    "\n",
    "• The easy way to do it is by setting the figsize inside plt.figure() method."
   ]
  }
 ],
 "metadata": {
  "kernelspec": {
   "display_name": "Python 3",
   "language": "python",
   "name": "python3"
  },
  "language_info": {
   "codemirror_mode": {
    "name": "ipython",
    "version": 3
   },
   "file_extension": ".py",
   "mimetype": "text/x-python",
   "name": "python",
   "nbconvert_exporter": "python",
   "pygments_lexer": "ipython3",
   "version": "3.6.8"
  }
 },
 "nbformat": 4,
 "nbformat_minor": 2
}

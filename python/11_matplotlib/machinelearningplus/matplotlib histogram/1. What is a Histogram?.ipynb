{
 "cells": [
  {
   "cell_type": "markdown",
   "metadata": {},
   "source": [
    "### 1. What is a Histogram?\n",
    "\n",
    "• A histogram is a plot of the frequency distribution of numeric array by splitting it to small equal-sized bins.\n",
    "\n",
    "• If you want to mathemetically split a given array to bins and frequencies, use the numpy histogram() method and pretty print it like below."
   ]
  },
  {
   "cell_type": "code",
   "execution_count": 9,
   "metadata": {},
   "outputs": [],
   "source": [
    "import numpy as np"
   ]
  },
  {
   "cell_type": "code",
   "execution_count": 10,
   "metadata": {},
   "outputs": [
    {
     "name": "stdout",
     "output_type": "stream",
     "text": [
      "10.0 * * * * * * * * * * * * * * * * * * * *\n",
      "20.0 * * * * * * * *\n",
      "30.0 * * * * * * * *\n",
      "40.0 * * * * * * *\n",
      "50.0 * * * * * * * * * * *\n",
      "60.0 * * * * * * *\n",
      "70.0 * * * * * * * * * * * * *\n",
      "80.0 * * * * * * *\n",
      "90.0 * * * * * * * * * * * *\n",
      "100.0 * * * * * * *\n"
     ]
    }
   ],
   "source": [
    "x = np.random.randint(low = 0, high = 100, size = 100)\n",
    "\n",
    "# Compute the frequency & bins\n",
    "frequency, bins = np.histogram(x, bins = 10, range = [0, 100])\n",
    "\n",
    "# Pretty print\n",
    "for b, f in zip(bins[1 : ], frequency):\n",
    "    print(round(b, 1), ' '.join(np.repeat('*', f)))"
   ]
  },
  {
   "cell_type": "markdown",
   "metadata": {},
   "source": [
    "• The above representation, however, won’t be practical on large arrays, in which case, you can use matplotlib histogram."
   ]
  }
 ],
 "metadata": {
  "kernelspec": {
   "display_name": "Python 3",
   "language": "python",
   "name": "python3"
  },
  "language_info": {
   "codemirror_mode": {
    "name": "ipython",
    "version": 3
   },
   "file_extension": ".py",
   "mimetype": "text/x-python",
   "name": "python",
   "nbconvert_exporter": "python",
   "pygments_lexer": "ipython3",
   "version": "3.6.8"
  }
 },
 "nbformat": 4,
 "nbformat_minor": 2
}

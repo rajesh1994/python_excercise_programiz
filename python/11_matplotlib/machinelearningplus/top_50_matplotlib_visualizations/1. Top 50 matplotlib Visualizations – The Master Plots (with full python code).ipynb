{
 "cells": [
  {
   "cell_type": "markdown",
   "metadata": {},
   "source": [
    "### Top 50 matplotlib Visualizations – The Master Plots (with full python code)\n",
    "\n",
    "• A compilation of the Top 50 matplotlib plots most useful in data analysis and visualization.\n",
    "\n",
    "• This list lets you choose what visualization to show for what situation using python’s matplotlib and seaborn library.\n",
    "\n",
    "Introduction\n",
    "\n",
    "• The charts are grouped based on the 7 different purposes of your visualization objective. For example, if you want to picturize the relationship between 2 variables, check out the plots under the ‘Correlation’ section.\n",
    "\n",
    "• Or if you want to show how a value changed over time, look under the ‘Change’ section and so on.\n",
    "\n",
    "An effective chart is one which:\n",
    "\n",
    "• Conveys the right and necessary information without distorting facts.\n",
    "\n",
    "• Simple in design, you dont have to strain in order to get it.\n",
    "\n",
    "• Aesthetics support the information rather than overshadow it.\n",
    "\n",
    "• Not overloaded with information."
   ]
  }
 ],
 "metadata": {
  "kernelspec": {
   "display_name": "Python 3",
   "language": "python",
   "name": "python3"
  },
  "language_info": {
   "codemirror_mode": {
    "name": "ipython",
    "version": 3
   },
   "file_extension": ".py",
   "mimetype": "text/x-python",
   "name": "python",
   "nbconvert_exporter": "python",
   "pygments_lexer": "ipython3",
   "version": "3.6.8"
  }
 },
 "nbformat": 4,
 "nbformat_minor": 2
}

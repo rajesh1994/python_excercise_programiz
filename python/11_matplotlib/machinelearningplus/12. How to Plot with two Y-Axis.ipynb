{
 "cells": [
  {
   "cell_type": "markdown",
   "metadata": {},
   "source": [
    "### How to Plot with two Y-Axis\n",
    "\n",
    "• Plotting a line chart on the left-hand side axis is straightforward, which you’ve already seen.\n",
    "\n",
    "• So how to draw the second line on the right-hand side y-axis?\n",
    "\n",
    "• The trick is to activate the right hand side Y axis using ax.twinx() to create a second axes.\n",
    "\n",
    "• This second axes will have the Y-axis on the right activated and shares the same x-axis as the original ax.\n",
    "\n",
    "• Then, whatever you draw using this second axes will be referenced to the secondary y-axis.\n",
    "\n",
    "• The remaining job is to just color the axis and tick labels to match the color of the lines."
   ]
  },
  {
   "cell_type": "code",
   "execution_count": null,
   "metadata": {},
   "outputs": [],
   "source": []
  }
 ],
 "metadata": {
  "kernelspec": {
   "display_name": "Python 3",
   "language": "python",
   "name": "python3"
  },
  "language_info": {
   "codemirror_mode": {
    "name": "ipython",
    "version": 3
   },
   "file_extension": ".py",
   "mimetype": "text/x-python",
   "name": "python",
   "nbconvert_exporter": "python",
   "pygments_lexer": "ipython3",
   "version": "3.6.8"
  }
 },
 "nbformat": 4,
 "nbformat_minor": 2
}

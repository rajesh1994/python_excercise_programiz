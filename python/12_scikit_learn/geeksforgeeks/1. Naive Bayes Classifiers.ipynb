{
 "cells": [
  {
   "cell_type": "markdown",
   "metadata": {},
   "source": [
    "### Naive Bayes Classifiers:\n",
    "\n",
    "• Naive Bayes classifiers are a collection of classification algorithms based on Bayes’ Theorem.\n",
    "\n",
    "• It is not a single algorithm but a family of algorithms where all of them share a common principle, i.e. every pair of features being classified is independent of each other."
   ]
  },
  {
   "cell_type": "markdown",
   "metadata": {},
   "source": [
    "• To start with, let us consider a dataset.\n",
    "\n",
    "• Consider a fictional dataset that describes the weather conditions for playing a game of golf. Given the weather conditions, each tuple classifies the conditions as fit(“Yes”) or unfit(“No”) for plaing golf."
   ]
  },
  {
   "cell_type": "markdown",
   "metadata": {},
   "source": [
    "• The dataset is divided into two parts, namely, feature matrix and the response vector.\n",
    "\n",
    "    • Feature matrix contains all the vectors(rows) of dataset in which each vector consists of the value of dependent features. In above dataset, features are ‘Outlook’, ‘Temperature’, ‘Humidity’ and ‘Windy’.\n",
    "    \n",
    "    • Response vector contains the value of class variable(prediction or output) for each row of feature matrix. In above dataset, the class variable name is ‘Play golf’."
   ]
  },
  {
   "cell_type": "markdown",
   "metadata": {},
   "source": [
    "#### Assumption:\n",
    "\n",
    "• The fundamental Naive Bayes assumption is that each feature makes an:\n",
    "\n",
    "    • independent\n",
    "    \n",
    "    • equal\n",
    "\n",
    "contribution to the outcome."
   ]
  },
  {
   "cell_type": "markdown",
   "metadata": {},
   "source": [
    "• With relation to our dataset, this concept can be understood as:\n",
    "\n",
    "    • We assume that no pair of features are dependent. For example, the temperature being ‘Hot’ has nothing to do with the humidity or the outlook being ‘Rainy’ has no effect on the winds. Hence, the features are assumed to be independent.\n",
    "\n",
    "    • Secondly, each feature is given the same weight(or importance). For example, knowing only temperature and humidity alone can’t predict the outcome accurately. None of the attributes is irrelevant and assumed to be contributing equally to the outcome."
   ]
  },
  {
   "cell_type": "markdown",
   "metadata": {},
   "source": [
    "#### Note:\n",
    "    \n",
    "• The assumptions made by Naive Bayes are not generally correct in real-world situations. In-fact, the independence assumption is never correct but often works well in practice.\n",
    "\n",
    "• Now, before moving to the formula for Naive Bayes, it is important to know about Bayes’ theorem."
   ]
  },
  {
   "cell_type": "markdown",
   "metadata": {},
   "source": [
    "#### Bayes’ Theorem\n",
    "\n",
    "• Bayes’ Theorem finds the probability of an event occurring given the probability of another event that has already occurred.\n",
    "\n",
    "• Bayes’ theorem is stated mathematically as the following equation:\n",
    "\n",
    "                                        P(A/B) = P(B/A)P(A)/P(B)\n",
    "\n",
    "where A and B are events and P(B) != 0.\n",
    "\n",
    "    • Basically, we are trying to find probability of event A, given the event B is true. Event B is also termed as evidence.\n",
    "    \n",
    "    • P(A) is the priori of A (the prior probability, i.e. Probability of event before evidence is seen). The evidence is an attribute value of an unknown instance(here, it is event B).\n",
    "\n",
    "    • P(A|B) is a posteriori probability of B, i.e. probability of event after evidence is seen."
   ]
  },
  {
   "cell_type": "markdown",
   "metadata": {},
   "source": [
    "• Now, we look at an implementation of Gaussian Naive Bayes classifier using scikit-learn."
   ]
  },
  {
   "cell_type": "code",
   "execution_count": 7,
   "metadata": {},
   "outputs": [
    {
     "name": "stdout",
     "output_type": "stream",
     "text": [
      "Gaussian Naive Bayes accuracy(in %): 95.0\n"
     ]
    }
   ],
   "source": [
    "# Load the iris dataset\n",
    "from sklearn.datasets import load_iris\n",
    "iris = load_iris()\n",
    "\n",
    "# Store the feature matrix(X) & response vector(y)\n",
    "X = iris.data\n",
    "y = iris.target\n",
    "\n",
    "# Splitting the X and y into training & testing sets\n",
    "from sklearn.model_selection import train_test_split\n",
    "X_train, X_test, y_train, y_test = train_test_split(X, y, test_size = 0.4, random_state = 1)\n",
    "\n",
    "# Training the model on training set\n",
    "from sklearn.naive_bayes import GaussianNB\n",
    "gnb = GaussianNB()\n",
    "gnb.fit(X_train,y_train)\n",
    "\n",
    "# Making the predictions on training set\n",
    "y_predict = gnb.predict(X_test)\n",
    "\n",
    "# Comparing the actual response value(y_test) with predicted response value (y_predict)\n",
    "from sklearn.metrics import accuracy_score\n",
    "print(\"Gaussian Naive Bayes accuracy(in %):\", accuracy_score(y_test, y_predict) * 100)"
   ]
  },
  {
   "cell_type": "markdown",
   "metadata": {},
   "source": [
    "### Other popular Naive Bayes classifiers are:\n",
    "\n",
    "• Multinomial Naive Bayes:\n",
    "    \n",
    "    • Feature vectors represent the frequencies with which certain events have been generated by a multinomial distribution.\n",
    "    \n",
    "    • This is the event model typically used for document classification.\n",
    "\n",
    "• Bernoulli Naive Bayes:\n",
    "    \n",
    "    • In the multivariate Bernoulli event model, features are independent booleans(binary variables) describing inputs.\n",
    "    \n",
    "    • Like the multinomial model, this model is popular for document classification tasks, where binary term    occurrence(i.e. a word occurs in a document or not) features are used rather than term frequencies(i.e. frequency of a word in the document)."
   ]
  }
 ],
 "metadata": {
  "kernelspec": {
   "display_name": "Python 3",
   "language": "python",
   "name": "python3"
  },
  "language_info": {
   "codemirror_mode": {
    "name": "ipython",
    "version": 3
   },
   "file_extension": ".py",
   "mimetype": "text/x-python",
   "name": "python",
   "nbconvert_exporter": "python",
   "pygments_lexer": "ipython3",
   "version": "3.7.4"
  }
 },
 "nbformat": 4,
 "nbformat_minor": 2
}

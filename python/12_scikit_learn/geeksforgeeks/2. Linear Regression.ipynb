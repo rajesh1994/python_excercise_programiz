{
 "cells": [
  {
   "cell_type": "markdown",
   "metadata": {},
   "source": [
    "### Linear Regression\n",
    "\n",
    "• Linear regression is a statistical approach for modelling relationship between a dependent variable with a given set of independent variables.\n",
    "\n",
    "• Note: In this article, we refer dependent variables as response and independent variables as features for simplicity."
   ]
  },
  {
   "cell_type": "markdown",
   "metadata": {},
   "source": [
    "#### Simple Linear Regression\n",
    "\n",
    "• Simple linear regression is an approach for predicting a response using a single feature.\n",
    "\n",
    "• It is assumed that the two variables are linearly related. Hence, we try to find a linear function that predicts the response value(y) as accurately as possible as a function of the feature or independent variable(x).\n",
    "\n",
    "• Let us consider a dataset where we have a value of response y for every feature x:"
   ]
  },
  {
   "cell_type": "code",
   "execution_count": 3,
   "metadata": {},
   "outputs": [],
   "source": [
    "x = [0, 1, 2, 3, 4, 5, 6, 7, 8, 9]\n",
    "\n",
    "y = [1, 3, 2, 5, 7, 8, 8, 9, 10, 12]"
   ]
  },
  {
   "cell_type": "markdown",
   "metadata": {},
   "source": [
    "• Given below is the python implementation of above technique on our small dataset:"
   ]
  },
  {
   "cell_type": "code",
   "execution_count": null,
   "metadata": {},
   "outputs": [],
   "source": [
    "import numpy as np\n",
    "import matplotlib.pyplot as plt\n",
    "\n",
    "def estimate_coef(x, y):\n",
    "    # Number of observations/points\n",
    "    n = np.size(x)\n",
    "    \n",
    "    # Mean of x and y vector\n",
    "    m_x, m_y = np.mean(x), np.mean(y)\n",
    "    \n",
    "    # Calculating cross-deviation & deviation about x\n",
    "    SS_xy = np.sum(x*y) - n*m*m_x\n",
    "    SS_xx = np.sum(x*x) - n*m*m_y\n",
    "    \n",
    "    # Calculating regression coefficients\n",
    "    b_1 = SS_xy / SS_xx\n",
    "    b_0 = m_y - b_1*m_x\n",
    "    \n",
    "    return(b_0, b_1)\n",
    "\n",
    "def plot_regression_line(x, y, b):\n",
    "    # Plotting the actual points as scatter plot\n",
    "    plt.scatter(x, y , color = 'm', marker='o', s=30)\n",
    "    \n",
    "    # Predicted response vector\n",
    "    y_predict = b[0] + b[1]*x\n",
    "    \n",
    "    # Plotting the regression line\n",
    "    plt.plot(x, y_predict, color='g')\n",
    "    \n",
    "    # Putting "
   ]
  }
 ],
 "metadata": {
  "kernelspec": {
   "display_name": "Python 3",
   "language": "python",
   "name": "python3"
  },
  "language_info": {
   "codemirror_mode": {
    "name": "ipython",
    "version": 3
   },
   "file_extension": ".py",
   "mimetype": "text/x-python",
   "name": "python",
   "nbconvert_exporter": "python",
   "pygments_lexer": "ipython3",
   "version": "3.7.4"
  }
 },
 "nbformat": 4,
 "nbformat_minor": 2
}
